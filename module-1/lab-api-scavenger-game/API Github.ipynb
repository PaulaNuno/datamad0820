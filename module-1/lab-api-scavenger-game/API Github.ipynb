{
 "cells": [
  {
   "cell_type": "code",
   "execution_count": 11,
   "metadata": {},
   "outputs": [],
   "source": [
    "import os\n",
    "from dotenv import load_dotenv\n",
    "load_dotenv()\n",
    "import json\n",
    "import requests\n",
    "apiKey = \"\"\n"
   ]
  },
  {
   "cell_type": "markdown",
   "metadata": {},
   "source": [
    "Challenge 1: Fork Languages"
   ]
  },
  {
   "cell_type": "code",
   "execution_count": 14,
   "metadata": {},
   "outputs": [
    {
     "name": "stdout",
     "output_type": "stream",
     "text": [
      "<Response [200]>\n"
     ]
    }
   ],
   "source": [
    "# Obtain the full list of forks created from the main lab repo via Github API\n",
    "\n",
    "url = \"https://api.github.com/repos/ironhack-datalabs/datamad0820/forks\"\n",
    "res = requests.get(url, headers={\"Authorization\":f\"token {apiKey}\"})\n",
    "print(res)\n",
    "res_forks = res.json()\n",
    "\n",
    "#sin imprimir para evitar que salgan todos"
   ]
  },
  {
   "cell_type": "code",
   "execution_count": 15,
   "metadata": {},
   "outputs": [
    {
     "name": "stdout",
     "output_type": "stream",
     "text": [
      "[None, 'Jupyter Notebook']\n"
     ]
    }
   ],
   "source": [
    "language = []\n",
    "for fork in res_forks:\n",
    "    for key in fork.keys():\n",
    "        if (key == \"language\") & (fork[\"language\"] not in language):\n",
    "            language.append(fork[\"language\"])\n",
    "print(language)"
   ]
  },
  {
   "cell_type": "markdown",
   "metadata": {},
   "source": [
    "Challenge 2: Count Commits"
   ]
  },
  {
   "cell_type": "code",
   "execution_count": 16,
   "metadata": {},
   "outputs": [],
   "source": [
    "#Count how many commits were made in the past week.\n",
    "#Obtain all the commits made in the past week via API, which is a JSON array that contains multiple commit objects.\n",
    "#Count how many commit objects are contained in the array."
   ]
  },
  {
   "cell_type": "code",
   "execution_count": 18,
   "metadata": {},
   "outputs": [
    {
     "name": "stdout",
     "output_type": "stream",
     "text": [
      "<Response [200]>\n"
     ]
    },
    {
     "data": {
      "text/plain": [
       "4"
      ]
     },
     "execution_count": 18,
     "metadata": {},
     "output_type": "execute_result"
    }
   ],
   "source": [
    "url = \"https://api.github.com/repos/ironhack-datalabs/datamad0820/commits\"\n",
    "res = requests.get(url, headers={\"Authorization\":f\"token {apiKey}\"})\n",
    "print(res)\n",
    "res_commits = res.json()\n",
    "\n",
    "# Comentamos el print \"res_commits\" para que no se imprima toooodo.\n",
    "len(res_commits)\n"
   ]
  },
  {
   "cell_type": "markdown",
   "metadata": {},
   "source": [
    "Challenge 3: Hidden Cold Joke"
   ]
  },
  {
   "cell_type": "code",
   "execution_count": 19,
   "metadata": {},
   "outputs": [
    {
     "name": "stdout",
     "output_type": "stream",
     "text": [
      "<Response [200]>\n"
     ]
    }
   ],
   "source": [
    "# search for hidden files files by calling the Github API,\n",
    "\n",
    "url = \"https://api.github.com/repos/ironhack-datalabs/scavenger/contents\"\n",
    "res = requests.get(url, headers={\"Authorization\":f\"token {apiKey}\"})\n",
    "print(res)\n",
    "res_folders = res.json()\n",
    "\n",
    "#comentamos res_folders"
   ]
  },
  {
   "cell_type": "code",
   "execution_count": 20,
   "metadata": {},
   "outputs": [
    {
     "name": "stdout",
     "output_type": "stream",
     "text": [
      "['15024', '15534', '17020', '30351', '40303', '44639', '45525', '47222', '47830', '49418', '50896', '55417', '55685', '60224', '64880', '66032', '68848', '70751', '70985', '88596', '89046', '89338', '91701', '97881', '98750']\n"
     ]
    }
   ],
   "source": [
    "folders=[]\n",
    "for folder in res_folders:\n",
    "    for k in folder.keys():\n",
    "        if k == \"name\":\n",
    "            folders.append(folder[k])\n",
    "\n",
    "folders.remove('.gitignore')\n",
    "print(folders)"
   ]
  },
  {
   "cell_type": "code",
   "execution_count": 24,
   "metadata": {},
   "outputs": [],
   "source": [
    "#step 3\n",
    "\n",
    "url = \"https://api.github.com/repos/ironhack-datalabs/scavenger/contents/\"\n",
    "res_files={}\n",
    "for folder in folders:\n",
    "    res = requests.get(url+folder, headers={\"Authorization\":f\"token {apiKey}\"})\n",
    "    res_files[folder] = res.json()\n",
    "\n",
    "#res_files"
   ]
  },
  {
   "cell_type": "code",
   "execution_count": 25,
   "metadata": {},
   "outputs": [
    {
     "data": {
      "text/plain": [
       "{'15024': '.0006.scavengerhunt',\n",
       " '15534': '.0012.scavengerhunt',\n",
       " '17020': '.0007.scavengerhunt',\n",
       " '30351': '.0021.scavengerhunt',\n",
       " '40303': '.0022.scavengerhunt',\n",
       " '44639': '.0005.scavengerhunt',\n",
       " '45525': '.0018.scavengerhunt',\n",
       " '47222': '.0024.scavengerhunt',\n",
       " '47830': '.0010.scavengerhunt',\n",
       " '49418': '.0014.scavengerhunt',\n",
       " '50896': '.0011.scavengerhunt',\n",
       " '55417': '.0023.scavengerhunt',\n",
       " '55685': '.0020.scavengerhunt',\n",
       " '60224': '.0003.scavengerhunt',\n",
       " '68848': '.0004.scavengerhunt',\n",
       " '70751': '.0019.scavengerhunt',\n",
       " '70985': '.0017.scavengerhunt',\n",
       " '88596': '.0002.scavengerhunt',\n",
       " '89338': '.0013.scavengerhunt',\n",
       " '91701': '.0015.scavengerhunt',\n",
       " '97881': '.0009.scavengerhunt',\n",
       " '98750': '.0001.scavengerhunt'}"
      ]
     },
     "execution_count": 25,
     "metadata": {},
     "output_type": "execute_result"
    }
   ],
   "source": [
    "target_files = {}\n",
    "for folder, files in res_files.items():\n",
    "    for file in files:\n",
    "        for k in file.keys():\n",
    "            if k == \"name\":\n",
    "                if '.scavengerhunt' in file[k]:\n",
    "                    target_files[folder] = file[k]\n",
    "target_files"
   ]
  },
  {
   "cell_type": "code",
   "execution_count": 32,
   "metadata": {},
   "outputs": [],
   "source": [
    "content_files = {}\n",
    "url = \"https://api.github.com/repos/ironhack-datalabs/scavenger/contents/\"\n",
    "for folder, file in target_files.items():\n",
    "    res = requests.get(url+folder+\"/\"+file, headers={\"Authorization\":f\"token {apiKey}\"})\n",
    "    content_files[file] = res.json()\n",
    "    \n",
    "#content_files"
   ]
  },
  {
   "cell_type": "code",
   "execution_count": 28,
   "metadata": {},
   "outputs": [
    {
     "data": {
      "text/plain": [
       "{'.0006.scavengerhunt': 'b2YK\\n',\n",
       " '.0012.scavengerhunt': 'MjAK\\n',\n",
       " '.0007.scavengerhunt': 'dGltZQo=\\n',\n",
       " '.0021.scavengerhunt': 'bmVlZAo=\\n',\n",
       " '.0022.scavengerhunt': 'dG8K\\n',\n",
       " '.0005.scavengerhunt': 'cGVyY2VudAo=\\n',\n",
       " '.0018.scavengerhunt': 'Y29tcGxhaW5pbmcK\\n',\n",
       " '.0024.scavengerhunt': 'ZGF0YS4K\\n',\n",
       " '.0010.scavengerhunt': 'cHJlcGFyaW5nCg==\\n',\n",
       " '.0014.scavengerhunt': 'b2YK\\n',\n",
       " '.0011.scavengerhunt': 'ZGF0YSwK\\n',\n",
       " '.0023.scavengerhunt': 'cHJlcGFyZQo=\\n',\n",
       " '.0020.scavengerhunt': 'dGhlCg==\\n',\n",
       " '.0003.scavengerhunt': 'c2NpZW5jZSwK\\n',\n",
       " '.0004.scavengerhunt': 'ODAK\\n',\n",
       " '.0019.scavengerhunt': 'YWJvdXQK\\n',\n",
       " '.0017.scavengerhunt': 'c3BlbnQK\\n',\n",
       " '.0002.scavengerhunt': 'ZGF0YQo=\\n',\n",
       " '.0013.scavengerhunt': 'cGVyY2VudAo=\\n',\n",
       " '.0015.scavengerhunt': 'dGltZQo=\\n',\n",
       " '.0009.scavengerhunt': 'aXMK\\n',\n",
       " '.0001.scavengerhunt': 'SW4K\\n'}"
      ]
     },
     "execution_count": 28,
     "metadata": {},
     "output_type": "execute_result"
    }
   ],
   "source": [
    "contents={}\n",
    "for file in content_files.values():\n",
    "    for key in file.keys():\n",
    "        if key == \"name\":\n",
    "            file_name = file[key]\n",
    "        if key == \"content\":\n",
    "            contents[file_name] = file[key]\n",
    "\n",
    "contents"
   ]
  },
  {
   "cell_type": "code",
   "execution_count": 29,
   "metadata": {},
   "outputs": [],
   "source": [
    "file_name_list = []\n",
    "for key in contents.keys():\n",
    "    file_name_list.append(key)\n",
    "file_name_list.sort()\n",
    "\n",
    "values = []\n",
    "\n",
    "for i in range(len(file_name_list)):\n",
    "    values.append(contents[file_name_list[i]])"
   ]
  },
  {
   "cell_type": "code",
   "execution_count": 31,
   "metadata": {},
   "outputs": [
    {
     "name": "stdout",
     "output_type": "stream",
     "text": [
      "In data science, 80 percent of time is preparing data, 20 percent of time spent complaining about the need to prepare data.\n"
     ]
    }
   ],
   "source": [
    "import base64\n",
    "\n",
    "words = []\n",
    "for value in values:\n",
    "    word = base64.b64decode(value).decode(\"utf-8\")\n",
    "    words.append(word.split(\"\\n\")[0])\n",
    "\n",
    "print(\" \".join(words))"
   ]
  }
 ],
 "metadata": {
  "kernelspec": {
   "display_name": "Python 3",
   "language": "python",
   "name": "python3"
  },
  "language_info": {
   "codemirror_mode": {
    "name": "ipython",
    "version": 3
   },
   "file_extension": ".py",
   "mimetype": "text/x-python",
   "name": "python",
   "nbconvert_exporter": "python",
   "pygments_lexer": "ipython3",
   "version": "3.8.2"
  }
 },
 "nbformat": 4,
 "nbformat_minor": 4
}
